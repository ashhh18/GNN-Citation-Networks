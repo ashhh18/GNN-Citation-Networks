{
 "cells": [
  {
   "cell_type": "code",
   "execution_count": 30,
   "metadata": {},
   "outputs": [
    {
     "name": "stdout",
     "output_type": "stream",
     "text": [
      "DiGraph with 6884 nodes and 30055 edges\n"
     ]
    }
   ],
   "source": [
    "import networkx as nx\n",
    "import matplotlib.pyplot as plt\n",
    "\n",
    "Gr = nx.DiGraph()\n",
    "\n",
    "with open('Datasets/cit-HepPh.txt', 'r') as f:\n",
    "    lines = f.readlines()\n",
    "\n",
    "edges = []\n",
    "count = 0\n",
    "\n",
    "for line in lines:\n",
    "    if count < 4:\n",
    "        count += 1\n",
    "    else:\n",
    "        linesp = line.strip().split()\n",
    "        edges.append((int(linesp[0]), int(linesp[1])))\n",
    "        count+=1\n",
    "\n",
    "Gr.add_edges_from(edges)\n",
    "print(Gr)"
   ]
  },
  {
   "cell_type": "code",
   "execution_count": 32,
   "metadata": {},
   "outputs": [],
   "source": [
    "nx.write_gexf(Gr, \"test.gexf\")"
   ]
  }
 ],
 "metadata": {
  "kernelspec": {
   "display_name": "Python 3",
   "language": "python",
   "name": "python3"
  },
  "language_info": {
   "codemirror_mode": {
    "name": "ipython",
    "version": 3
   },
   "file_extension": ".py",
   "mimetype": "text/x-python",
   "name": "python",
   "nbconvert_exporter": "python",
   "pygments_lexer": "ipython3",
   "version": "3.10.12"
  }
 },
 "nbformat": 4,
 "nbformat_minor": 2
}
